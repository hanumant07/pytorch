{
 "cells": [
  {
   "cell_type": "code",
   "execution_count": 1,
   "metadata": {},
   "outputs": [],
   "source": [
    "%reload_ext tensorboard\n",
    "\n",
    "import torch.nn as nn\n",
    "import torch\n",
    "import numpy as np\n",
    "import torchvision\n",
    "import torch.nn.functional as F\n",
    "from torch.utils.data import Dataset, DataLoader\n",
    "\n",
    "from torch.utils.tensorboard import SummaryWriter"
   ]
  },
  {
   "cell_type": "code",
   "execution_count": 2,
   "metadata": {},
   "outputs": [],
   "source": [
    "device = torch.device('cuda' if torch.cuda.is_available() else 'cpu')"
   ]
  },
  {
   "cell_type": "code",
   "execution_count": 3,
   "metadata": {},
   "outputs": [],
   "source": [
    "batch_size = 64\n",
    "learning_rate = 0.01\n",
    "num_epochs = 8"
   ]
  },
  {
   "cell_type": "code",
   "execution_count": 4,
   "metadata": {},
   "outputs": [],
   "source": [
    "train_ds = torchvision.datasets.FashionMNIST(\n",
    "    './data', download=True, train=True, transform=torchvision.transforms.ToTensor())\n",
    "test_ds = torchvision.datasets.FashionMNIST(\n",
    "    './data', transform=torchvision.transforms.ToTensor())\n",
    "\n",
    "train_dl = DataLoader(train_ds, batch_size=batch_size, shuffle=True)\n",
    "test_dl = DataLoader(test_ds, batch_size=batch_size)"
   ]
  },
  {
   "cell_type": "code",
   "execution_count": 5,
   "metadata": {},
   "outputs": [],
   "source": [
    "writer = SummaryWriter(log_dir='runs/mnist_logs')\n"
   ]
  },
  {
   "cell_type": "code",
   "execution_count": 6,
   "metadata": {},
   "outputs": [
    {
     "name": "stdout",
     "output_type": "stream",
     "text": [
      "torch.Size([64, 1, 28, 28])\n"
     ]
    }
   ],
   "source": [
    "\n",
    "# Visualize Data\n",
    "\n",
    "train_iter = iter(train_dl)\n",
    "samples, labels = train_iter.next()\n",
    "print (samples.shape)"
   ]
  },
  {
   "cell_type": "code",
   "execution_count": 7,
   "metadata": {},
   "outputs": [
    {
     "name": "stdout",
     "output_type": "stream",
     "text": [
      "torch.Size([3, 242, 242])\n"
     ]
    }
   ],
   "source": [
    "grid = torchvision.utils.make_grid(samples)\n",
    "print (grid.shape)\n",
    "writer.add_image('samples', grid, 0)"
   ]
  },
  {
   "cell_type": "code",
   "execution_count": 8,
   "metadata": {},
   "outputs": [],
   "source": [
    "class FashionClassifier(nn.Module):\n",
    "    def __init__(self, input_channels, num_classes):\n",
    "        super(FashionClassifier, self).__init__()\n",
    "        self.conv1 = nn.Conv2d(input_channels, 6, 5)\n",
    "        self.pool = nn.MaxPool2d(2,2)\n",
    "        self.conv2 = nn.Conv2d(6, 16, 5)\n",
    "        self.lin1 = nn.Linear(16*4*4, 150)\n",
    "        self.lin2 = nn.Linear(150, 84)\n",
    "        self.lin3 = nn.Linear(84, num_classes)\n",
    "\n",
    "    def forward(self, x):\n",
    "        x = F.relu(self.conv1(x))\n",
    "        x = self.pool(x)\n",
    "        x = F.relu(self.conv2(x))\n",
    "        x = self.pool(x)\n",
    "        x = x.view(-1, 16*4*4)\n",
    "        x = F.relu(self.lin1(x))\n",
    "        x = F.relu(self.lin2(x))\n",
    "        x = F.relu(self.lin3(x))\n",
    "        return x"
   ]
  },
  {
   "cell_type": "code",
   "execution_count": 9,
   "metadata": {},
   "outputs": [],
   "source": [
    "model = FashionClassifier(samples.shape[1], 10)\n",
    "writer.add_graph(model, samples)\n",
    "\n",
    "criterion = nn.CrossEntropyLoss()\n",
    "optim = torch.optim.SGD(model.parameters(), lr=learning_rate)\n"
   ]
  },
  {
   "cell_type": "code",
   "execution_count": 10,
   "metadata": {},
   "outputs": [],
   "source": [
    "def run_eval(model, test_dl, epoch):\n",
    "\n",
    "    with torch.no_grad():\n",
    "        num_correct = 0\n",
    "        num_samples = 0\n",
    "        for i, (samples,labels) in enumerate(test_dl):\n",
    "            images = samples.to(device)\n",
    "            y = labels.to(device)\n",
    "            y_pred = model(images)\n",
    "            _, predicted = torch.max(y_pred, 1)\n",
    "            num_correct += (predicted == y).sum().item()\n",
    "            num_samples += labels[0]\n",
    "\n",
    "        acc = (100 * num_correct) / num_samples\n",
    "        writer.add_scalar('mnist_val_acc', acc, epoch)"
   ]
  },
  {
   "cell_type": "code",
   "execution_count": 11,
   "metadata": {},
   "outputs": [
    {
     "name": "stdout",
     "output_type": "stream",
     "text": [
      "epoch 0 / num_epochs 7, step 100, training loss = 2.3059\n",
      "epoch 0 / num_epochs 7, step 200, training loss = 2.3013\n",
      "epoch 0 / num_epochs 7, step 300, training loss = 2.2997\n",
      "epoch 0 / num_epochs 7, step 400, training loss = 2.2945\n",
      "epoch 0 / num_epochs 7, step 500, training loss = 2.2926\n",
      "epoch 0 / num_epochs 7, step 600, training loss = 2.2915\n",
      "epoch 0 / num_epochs 7, step 700, training loss = 2.2743\n",
      "epoch 0 / num_epochs 7, step 800, training loss = 2.2419\n",
      "epoch 0 / num_epochs 7, step 900, training loss = 2.2129\n",
      "epoch 1 / num_epochs 7, step 100, training loss = 2.0550\n",
      "epoch 1 / num_epochs 7, step 200, training loss = 1.9104\n",
      "epoch 1 / num_epochs 7, step 300, training loss = 1.7568\n",
      "epoch 1 / num_epochs 7, step 400, training loss = 2.0054\n",
      "epoch 1 / num_epochs 7, step 500, training loss = 1.6775\n",
      "epoch 1 / num_epochs 7, step 600, training loss = 1.4911\n",
      "epoch 1 / num_epochs 7, step 700, training loss = 1.3871\n",
      "epoch 1 / num_epochs 7, step 800, training loss = 1.2499\n",
      "epoch 1 / num_epochs 7, step 900, training loss = 1.4085\n",
      "epoch 2 / num_epochs 7, step 100, training loss = 1.4764\n",
      "epoch 2 / num_epochs 7, step 200, training loss = 1.3416\n",
      "epoch 2 / num_epochs 7, step 300, training loss = 1.4943\n",
      "epoch 2 / num_epochs 7, step 400, training loss = 1.2591\n",
      "epoch 2 / num_epochs 7, step 500, training loss = 1.4514\n",
      "epoch 2 / num_epochs 7, step 600, training loss = 1.3726\n",
      "epoch 2 / num_epochs 7, step 700, training loss = 1.2972\n",
      "epoch 2 / num_epochs 7, step 800, training loss = 1.6109\n",
      "epoch 2 / num_epochs 7, step 900, training loss = 1.4488\n",
      "epoch 3 / num_epochs 7, step 100, training loss = 1.1202\n",
      "epoch 3 / num_epochs 7, step 200, training loss = 1.2075\n",
      "epoch 3 / num_epochs 7, step 300, training loss = 1.5401\n",
      "epoch 3 / num_epochs 7, step 400, training loss = 1.2688\n",
      "epoch 3 / num_epochs 7, step 500, training loss = 1.2714\n",
      "epoch 3 / num_epochs 7, step 600, training loss = 1.5306\n",
      "epoch 3 / num_epochs 7, step 700, training loss = 1.3214\n",
      "epoch 3 / num_epochs 7, step 800, training loss = 1.4787\n",
      "epoch 3 / num_epochs 7, step 900, training loss = 1.4693\n",
      "epoch 4 / num_epochs 7, step 100, training loss = 1.3894\n",
      "epoch 4 / num_epochs 7, step 200, training loss = 1.1573\n",
      "epoch 4 / num_epochs 7, step 300, training loss = 1.4198\n",
      "epoch 4 / num_epochs 7, step 400, training loss = 1.4131\n",
      "epoch 4 / num_epochs 7, step 500, training loss = 1.3777\n",
      "epoch 4 / num_epochs 7, step 600, training loss = 1.2198\n",
      "epoch 4 / num_epochs 7, step 700, training loss = 1.3965\n",
      "epoch 4 / num_epochs 7, step 800, training loss = 1.4301\n",
      "epoch 4 / num_epochs 7, step 900, training loss = 1.2595\n",
      "epoch 5 / num_epochs 7, step 100, training loss = 1.4987\n",
      "epoch 5 / num_epochs 7, step 200, training loss = 1.3071\n",
      "epoch 5 / num_epochs 7, step 300, training loss = 1.3253\n",
      "epoch 5 / num_epochs 7, step 400, training loss = 1.3442\n",
      "epoch 5 / num_epochs 7, step 500, training loss = 1.2105\n",
      "epoch 5 / num_epochs 7, step 600, training loss = 1.2404\n",
      "epoch 5 / num_epochs 7, step 700, training loss = 1.3705\n",
      "epoch 5 / num_epochs 7, step 800, training loss = 1.2796\n",
      "epoch 5 / num_epochs 7, step 900, training loss = 1.2153\n",
      "epoch 6 / num_epochs 7, step 100, training loss = 1.3635\n",
      "epoch 6 / num_epochs 7, step 200, training loss = 1.7549\n",
      "epoch 6 / num_epochs 7, step 300, training loss = 1.1815\n",
      "epoch 6 / num_epochs 7, step 400, training loss = 1.2209\n",
      "epoch 6 / num_epochs 7, step 500, training loss = 1.2802\n",
      "epoch 6 / num_epochs 7, step 600, training loss = 1.2932\n",
      "epoch 6 / num_epochs 7, step 700, training loss = 1.5008\n",
      "epoch 6 / num_epochs 7, step 800, training loss = 1.4311\n",
      "epoch 6 / num_epochs 7, step 900, training loss = 1.4028\n",
      "epoch 7 / num_epochs 7, step 100, training loss = 1.3781\n",
      "epoch 7 / num_epochs 7, step 200, training loss = 1.0586\n",
      "epoch 7 / num_epochs 7, step 300, training loss = 1.0902\n",
      "epoch 7 / num_epochs 7, step 400, training loss = 1.3750\n",
      "epoch 7 / num_epochs 7, step 500, training loss = 1.0711\n",
      "epoch 7 / num_epochs 7, step 600, training loss = 1.3247\n",
      "epoch 7 / num_epochs 7, step 700, training loss = 1.3903\n",
      "epoch 7 / num_epochs 7, step 800, training loss = 1.5005\n",
      "epoch 7 / num_epochs 7, step 900, training loss = 1.1360\n"
     ]
    }
   ],
   "source": [
    "for epoch in range(num_epochs):\n",
    "    for i,(samples,labels) in enumerate(train_dl):\n",
    "        images = samples.to(device)\n",
    "        y = labels.to(device)\n",
    "        pred = model(images)\n",
    "        loss = criterion(pred, y)\n",
    "        optim.zero_grad()\n",
    "        loss.backward()\n",
    "        optim.step()\n",
    "\n",
    "        if (i + 1) % 100 == 0:\n",
    "            print(f'epoch {epoch} / num_epochs {num_epochs-1}, step {i + 1}, training loss = {loss.item():.4f}')\n",
    "    \n",
    "    run_eval(model, test_dl, epoch)\n",
    "\n",
    "writer.close() "
   ]
  },
  {
   "cell_type": "code",
   "execution_count": 12,
   "metadata": {},
   "outputs": [
    {
     "data": {
      "text/plain": [
       "Reusing TensorBoard on port 6006 (pid 3991), started 5:04:57 ago. (Use '!kill 3991' to kill it.)"
      ]
     },
     "metadata": {},
     "output_type": "display_data"
    },
    {
     "data": {
      "text/html": [
       "\n",
       "      <iframe id=\"tensorboard-frame-e3f8c4ed73109c39\" width=\"100%\" height=\"800\" frameborder=\"0\">\n",
       "      </iframe>\n",
       "      <script>\n",
       "        (function() {\n",
       "          const frame = document.getElementById(\"tensorboard-frame-e3f8c4ed73109c39\");\n",
       "          const url = new URL(\"http://localhost\");\n",
       "          const port = 6006;\n",
       "          if (port) {\n",
       "            url.port = port;\n",
       "          }\n",
       "          frame.src = url;\n",
       "        })();\n",
       "      </script>\n",
       "    "
      ],
      "text/plain": [
       "<IPython.core.display.HTML object>"
      ]
     },
     "metadata": {},
     "output_type": "display_data"
    }
   ],
   "source": [
    "%tensorboard --logdir=runs/mnist_logs"
   ]
  }
 ],
 "metadata": {
  "interpreter": {
   "hash": "2486d21a85745cbeb8f10f3d9a2d0f97bc7a2cb7a7632d175e2408d74999663e"
  },
  "kernelspec": {
   "display_name": "Python 3.9.7 ('base')",
   "language": "python",
   "name": "python3"
  },
  "language_info": {
   "codemirror_mode": {
    "name": "ipython",
    "version": 3
   },
   "file_extension": ".py",
   "mimetype": "text/x-python",
   "name": "python",
   "nbconvert_exporter": "python",
   "pygments_lexer": "ipython3",
   "version": "3.9.7"
  },
  "orig_nbformat": 4
 },
 "nbformat": 4,
 "nbformat_minor": 2
}
